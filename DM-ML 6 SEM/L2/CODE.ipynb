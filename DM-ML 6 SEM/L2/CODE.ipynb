{
  "nbformat": 4,
  "nbformat_minor": 0,
  "metadata": {
    "colab": {
      "provenance": []
    },
    "kernelspec": {
      "name": "python3",
      "display_name": "Python 3"
    },
    "language_info": {
      "name": "python"
    }
  },
  "cells": [
    {
      "cell_type": "markdown",
      "source": [
        "Q1. Create a list L1 of your six friends name.\n",
        "Convert L1 to series s.\n",
        "Check data type of S.\n",
        "Print value of s at index 4.\n",
        "Print value of s at index 3 and 5.\n",
        "Using for loop print all your friends name with message Hi!\n",
        "Reindex s to from default index 0-5 to a,b,c,d,e,f\n",
        "Print values at index b and e\n",
        "Print values at index from b to e"
      ],
      "metadata": {
        "id": "pyNkdS2CreKE"
      }
    },
    {
      "cell_type": "code",
      "source": [
        "import pandas as pd\n",
        "l1=[\"Avantika\",\"Ben10\",\"Priyanka\",\"Divya\",\"Ishika\",\"Juhi\"]\n",
        "l1"
      ],
      "metadata": {
        "colab": {
          "base_uri": "https://localhost:8080/"
        },
        "id": "pZVapBMBriyX",
        "outputId": "97ec3847-3abc-487a-a3ed-12096f7cad2f"
      },
      "execution_count": null,
      "outputs": [
        {
          "output_type": "execute_result",
          "data": {
            "text/plain": [
              "['Avantika', 'Ben10', 'Priyanka', 'Divya', 'Ishika', 'Juhi']"
            ]
          },
          "metadata": {},
          "execution_count": 42
        }
      ]
    },
    {
      "cell_type": "code",
      "source": [
        "s1=pd.Series(l1)\n",
        "s1\n",
        "type(s1)"
      ],
      "metadata": {
        "colab": {
          "base_uri": "https://localhost:8080/"
        },
        "id": "7EqOUV9msEbn",
        "outputId": "a0bfed7d-f959-4ce7-d804-f7cfa5019b42"
      },
      "execution_count": null,
      "outputs": [
        {
          "output_type": "execute_result",
          "data": {
            "text/plain": [
              "0    Avantika\n",
              "1       Ben10\n",
              "2    Priyanka\n",
              "3       Divya\n",
              "4      Ishika\n",
              "5        Juhi\n",
              "dtype: object"
            ]
          },
          "metadata": {},
          "execution_count": 38
        }
      ]
    },
    {
      "cell_type": "code",
      "source": [
        "s2=pd.Series(s1,index=[4])\n",
        "s2"
      ],
      "metadata": {
        "colab": {
          "base_uri": "https://localhost:8080/"
        },
        "id": "yHmch_3xsG3U",
        "outputId": "de4d9335-f5eb-4b4b-8578-1b1c46c3680f"
      },
      "execution_count": null,
      "outputs": [
        {
          "output_type": "execute_result",
          "data": {
            "text/plain": [
              "4    Ishika\n",
              "dtype: object"
            ]
          },
          "metadata": {},
          "execution_count": 12
        }
      ]
    },
    {
      "cell_type": "code",
      "source": [
        "s3=pd.Series(s1,index=[3,5])\n",
        "s3"
      ],
      "metadata": {
        "colab": {
          "base_uri": "https://localhost:8080/"
        },
        "id": "G4XWFIAcuKP_",
        "outputId": "6b6cd4ea-bc1a-44f0-c2ca-577b9a1146c7"
      },
      "execution_count": null,
      "outputs": [
        {
          "output_type": "execute_result",
          "data": {
            "text/plain": [
              "3    Divya\n",
              "5     Juhi\n",
              "dtype: object"
            ]
          },
          "metadata": {},
          "execution_count": 13
        },
        {
          "output_type": "execute_result",
          "data": {
            "text/plain": [
              "3    Divya\n",
              "5     Juhi\n",
              "dtype: object"
            ]
          },
          "metadata": {},
          "execution_count": 14
        }
      ]
    },
    {
      "cell_type": "code",
      "source": [
        "\n",
        "for x in s1:\n",
        "  print(\"Hi!\"+s1)\n",
        "\n"
      ],
      "metadata": {
        "colab": {
          "base_uri": "https://localhost:8080/"
        },
        "id": "PtVCXLgSvTsu",
        "outputId": "6acbc62c-a730-4d6a-b74c-8c46f531b1d4"
      },
      "execution_count": null,
      "outputs": [
        {
          "output_type": "stream",
          "name": "stdout",
          "text": [
            "0    Hi!Avantika\n",
            "1       Hi!Ben10\n",
            "2    Hi!Priyanka\n",
            "3       Hi!Divya\n",
            "4      Hi!Ishika\n",
            "5        Hi!Juhi\n",
            "dtype: object\n",
            "0    Hi!Avantika\n",
            "1       Hi!Ben10\n",
            "2    Hi!Priyanka\n",
            "3       Hi!Divya\n",
            "4      Hi!Ishika\n",
            "5        Hi!Juhi\n",
            "dtype: object\n",
            "0    Hi!Avantika\n",
            "1       Hi!Ben10\n",
            "2    Hi!Priyanka\n",
            "3       Hi!Divya\n",
            "4      Hi!Ishika\n",
            "5        Hi!Juhi\n",
            "dtype: object\n",
            "0    Hi!Avantika\n",
            "1       Hi!Ben10\n",
            "2    Hi!Priyanka\n",
            "3       Hi!Divya\n",
            "4      Hi!Ishika\n",
            "5        Hi!Juhi\n",
            "dtype: object\n",
            "0    Hi!Avantika\n",
            "1       Hi!Ben10\n",
            "2    Hi!Priyanka\n",
            "3       Hi!Divya\n",
            "4      Hi!Ishika\n",
            "5        Hi!Juhi\n",
            "dtype: object\n",
            "0    Hi!Avantika\n",
            "1       Hi!Ben10\n",
            "2    Hi!Priyanka\n",
            "3       Hi!Divya\n",
            "4      Hi!Ishika\n",
            "5        Hi!Juhi\n",
            "dtype: object\n"
          ]
        }
      ]
    },
    {
      "cell_type": "code",
      "source": [
        "#l1=[\"Avantika\",\"Ben10\",\"Priyanka\",\"Divya\",\"Ishika\",\"Juhi\"]\n",
        "import pandas \n",
        "s1=pd.Series(l1)\n",
        "pd.Series(s1,index=['c','b','a','d','e','f'])\n",
        "s1.reindex(['a','b','c','d','e','f'])\n",
        "\n"
      ],
      "metadata": {
        "colab": {
          "base_uri": "https://localhost:8080/"
        },
        "id": "pJNSME6yzEOl",
        "outputId": "1d8da429-8ab7-4427-85cb-e89a02fff588"
      },
      "execution_count": null,
      "outputs": [
        {
          "output_type": "execute_result",
          "data": {
            "text/plain": [
              "a    NaN\n",
              "b    NaN\n",
              "c    NaN\n",
              "d    NaN\n",
              "e    NaN\n",
              "dtype: object"
            ]
          },
          "metadata": {},
          "execution_count": 48
        }
      ]
    },
    {
      "cell_type": "code",
      "source": [
        "#q2\n",
        "from pandas import Series\n",
        "d={'Ak':90, \"Bk\":99,\"Ck\":80,\"Dk\":89}\n",
        "s1=Series(d)\n",
        "s1"
      ],
      "metadata": {
        "colab": {
          "base_uri": "https://localhost:8080/"
        },
        "id": "imZJSmIC46hK",
        "outputId": "74df7895-b40a-4684-e86f-715267ab3025"
      },
      "execution_count": null,
      "outputs": [
        {
          "output_type": "execute_result",
          "data": {
            "text/plain": [
              "Ak    90\n",
              "Bk    99\n",
              "Ck    80\n",
              "Dk    89\n",
              "dtype: int64"
            ]
          },
          "metadata": {},
          "execution_count": 45
        }
      ]
    }
  ]
}